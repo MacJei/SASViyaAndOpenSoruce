{
 "cells": [
  {
   "cell_type": "markdown",
   "metadata": {},
   "source": [
    "# SAS Viya workshop for Python data scientists\n",
    "### Документация\n",
    "\n",
    "[SAS Viya 3.5 Actions and Action Sets by Name and Product](https://go.documentation.sas.com/?cdcId=pgmsascdc&cdcVersion=9.4_3.5&docsetId=allprodsactions&docsetTarget=titlepage.htm&locale=en)\n",
    "\n",
    "[SAS swat for Python](https://sassoftware.github.io/python-swat/)\n",
    "\n",
    "[SASCTL for SAS Viya Model Manager](https://github.com/sassoftware/python-sasctl)\n"
   ]
  },
  {
   "cell_type": "code",
   "execution_count": null,
   "metadata": {},
   "outputs": [],
   "source": []
  },
  {
   "cell_type": "markdown",
   "metadata": {},
   "source": [
    "Содержание\n",
    "\n",
    "1. Создание сессии\n",
    "2. Подготовка данных для обучения моделей\n",
    "3. Обучение моделей\n",
    "4. Интерпритация работы модели\n",
    "5. Запуск автоматического конвеера разработки модели SAS AutoML\n",
    "6. Выполнение скоринга в пакетном режиме\n",
    "7. Регистрация моделей в репозитории Model Manager"
   ]
  },
  {
   "cell_type": "code",
   "execution_count": null,
   "metadata": {},
   "outputs": [],
   "source": [
    "from swat import * #библиотека для работы с аналитикой SAS Viya с помощью Python\n",
    "\n",
    "import pandas as pd\n",
    "import numpy as np\n",
    "pd.options.display.max_columns = 999\n",
    "pd.options.display.max_colwidth = 40\n",
    "pd.options.display.max_rows = 2000\n",
    "pd.options.display.float_format = lambda x: ('%7.5f' % x)\n",
    "from matplotlib import pyplot as plt\n",
    "from swat.render import render_html\n",
    "%matplotlib inline"
   ]
  },
  {
   "cell_type": "markdown",
   "metadata": {},
   "source": [
    "# 1. Создание сессии "
   ]
  },
  {
   "cell_type": "markdown",
   "metadata": {},
   "source": [
    "## 1.1 Подключение к серверу Cloud Analytic Services (CAS)"
   ]
  },
  {
   "cell_type": "code",
   "execution_count": null,
   "metadata": {},
   "outputs": [],
   "source": [
    "cashost='10.96.2.165'\n",
    "casport=5570\n",
    "casuser = input(\"Provide your user id for the Viya server: \")\n",
    "password = input(\"Provide your password for the Viya server: \")\n",
    "\n",
    "sess = CAS(cashost, casport, username=casuser, password=password)"
   ]
  },
  {
   "cell_type": "markdown",
   "metadata": {},
   "source": [
    "## 1.2 Загрузка action sets для сессии работы с CAS"
   ]
  },
  {
   "cell_type": "code",
   "execution_count": null,
   "metadata": {},
   "outputs": [],
   "source": [
    "actionsets = [\n",
    "    'dataStep',\n",
    "    'fedSql',\n",
    "    'dataSciencePilot',\n",
    "    'astore',\n",
    "    'cardinality',\n",
    "    'sampling',\n",
    "    'decisionTree',\n",
    "    'neuralNet',\n",
    "    'svm',\n",
    "    'autotune',\n",
    "    'percentile',\n",
    "    'sessionProp',\n",
    "    'explainModel'\n",
    "]\n",
    "for a in actionsets:\n",
    "    sess.loadactionset(actionset = a)\n",
    "\n",
    "sess.sessionProp.setSessOpt(caslib = 'SASWorkshopDay')"
   ]
  },
  {
   "cell_type": "markdown",
   "metadata": {},
   "source": [
    "## 1.3 Загрузка таблиц для обучения и оценки моделей в RAM"
   ]
  },
  {
   "cell_type": "code",
   "execution_count": null,
   "metadata": {},
   "outputs": [],
   "source": [
    "def load_table(name):\n",
    "    _ = sess.table.loadTable(\n",
    "        path = '%s.sashdat' % name,\n",
    "        casout = {\n",
    "            'name': name,\n",
    "            'replace' : True\n",
    "        },\n",
    "        caslib = \"SASWorkshopDay\"\n",
    "    )\n",
    "\n",
    "tables_to_load = ['hmeq_loan_data_train', 'hmeq_loan_data_test', 'hmeq_customer_data']\n",
    "\n",
    "for t in tables_to_load:\n",
    "    load_table(t)"
   ]
  },
  {
   "cell_type": "markdown",
   "metadata": {},
   "source": [
    "## 1.4 Получение список доступных таблиц в сессии"
   ]
  },
  {
   "cell_type": "code",
   "execution_count": null,
   "metadata": {},
   "outputs": [],
   "source": [
    "sess.tableInfo()"
   ]
  },
  {
   "cell_type": "markdown",
   "metadata": {},
   "source": [
    "# 2. Подготовка данных для обучения моделей"
   ]
  },
  {
   "cell_type": "markdown",
   "metadata": {},
   "source": [
    "## 2.1 Перечень исходных полей в таблицах для обучения и оценки моделей"
   ]
  },
  {
   "cell_type": "code",
   "execution_count": null,
   "metadata": {},
   "outputs": [],
   "source": [
    "sess.CASTable('hmeq_loan_data_train').columninfo()['ColumnInfo']"
   ]
  },
  {
   "cell_type": "code",
   "execution_count": null,
   "metadata": {},
   "outputs": [],
   "source": [
    "sess.CASTable('hmeq_loan_data_train').columninfo()['ColumnInfo'][['Column', 'Label']]"
   ]
  },
  {
   "cell_type": "code",
   "execution_count": null,
   "metadata": {},
   "outputs": [],
   "source": [
    "sess.CASTable('hmeq_loan_data_test').columninfo()['ColumnInfo'][['Column', 'Label']]"
   ]
  },
  {
   "cell_type": "code",
   "execution_count": null,
   "metadata": {},
   "outputs": [],
   "source": [
    "sess.CASTable('hmeq_customer_data').columninfo()['ColumnInfo'][['Column', 'Label']]"
   ]
  },
  {
   "cell_type": "markdown",
   "metadata": {},
   "source": [
    "## 2.2 Оценка качества данных в таблицах в столбец \"customer gender\""
   ]
  },
  {
   "cell_type": "code",
   "execution_count": null,
   "metadata": {},
   "outputs": [],
   "source": [
    "sess.CASTable('hmeq_customer_data').customer_gender.value_counts()"
   ]
  },
  {
   "cell_type": "code",
   "execution_count": null,
   "metadata": {},
   "outputs": [],
   "source": [
    "type(sess.CASTable('hmeq_customer_data').customer_gender.value_counts())"
   ]
  },
  {
   "cell_type": "code",
   "execution_count": null,
   "metadata": {},
   "outputs": [],
   "source": [
    "len(sess.CASTable('hmeq_customer_data')) - sess.CASTable('hmeq_customer_data').customer_gender.value_counts().sum()"
   ]
  },
  {
   "cell_type": "markdown",
   "metadata": {},
   "source": [
    "## 2.3 Запуск процедуры Data Quality для устранения пропущенных значений в столбце \"customer gender\""
   ]
  },
  {
   "cell_type": "code",
   "execution_count": null,
   "metadata": {},
   "outputs": [],
   "source": [
    "r = sess.dataStep.runcode(code = '''\n",
    "    data hmeq_customer_data_mod;\n",
    "        set hmeq_customer_data;\n",
    "        if customer_gender notin (\"M\", \"F\") then customer_gender = dqgender(customer_name, \"Name\", \"ENUSA\");\n",
    "        drop customer_name;\n",
    "    run;\n",
    "''')"
   ]
  },
  {
   "cell_type": "code",
   "execution_count": null,
   "metadata": {},
   "outputs": [],
   "source": [
    "sess.CASTable('hmeq_customer_data_mod').customer_gender.value_counts()"
   ]
  },
  {
   "cell_type": "code",
   "execution_count": null,
   "metadata": {},
   "outputs": [],
   "source": [
    "len(sess.CASTable('hmeq_customer_data_mod')) - sess.CASTable('hmeq_customer_data_mod').customer_gender.value_counts().sum()"
   ]
  },
  {
   "cell_type": "markdown",
   "metadata": {},
   "source": [
    "## 2.4 Join таблицы для обучения и справочника в CAS"
   ]
  },
  {
   "cell_type": "code",
   "execution_count": null,
   "metadata": {},
   "outputs": [],
   "source": [
    "def join(partition):\n",
    "    query = '''\n",
    "    create table SASWorkshopDay.hmeq_{partition} {{options replace=TRUE}} as\n",
    "    select\n",
    "        a.bad,\n",
    "        a.reason,\n",
    "        a.loan,\n",
    "        b.*\n",
    "    from\n",
    "        SASWorkshopDay.hmeq_loan_data_{partition} a\n",
    "        left join\n",
    "        SASWorkshopDay.hmeq_customer_data_mod b\n",
    "        on\n",
    "            a.Customer_ID = b.Customer_ID\n",
    "    ;\n",
    "    '''.format(partition = partition)\n",
    "    sess.fedSql.execDirect(query)\n",
    "\n",
    "join('train')\n",
    "join('test')"
   ]
  },
  {
   "cell_type": "markdown",
   "metadata": {},
   "source": [
    "## 2.5 Партицирование - разбиение обучающей выборки на train и validate"
   ]
  },
  {
   "cell_type": "code",
   "execution_count": null,
   "metadata": {},
   "outputs": [],
   "source": [
    "sess.sampling.stratified(\n",
    "    table = {\n",
    "        'name': 'hmeq_train',\n",
    "        'groupBy': {'bad'}\n",
    "    },\n",
    "    partInd = True,\n",
    "    sampPct = 30,\n",
    "    output = {\n",
    "        'casOut': {\n",
    "            'name': 'hmeq_train_val',\n",
    "            'replace': True\n",
    "        },\n",
    "        'copyVars': 'ALL'\n",
    "    },\n",
    "    seed = 1234\n",
    ")"
   ]
  },
  {
   "cell_type": "code",
   "execution_count": null,
   "metadata": {},
   "outputs": [],
   "source": [
    "sess.CASTable('hmeq_train_val').head(5)"
   ]
  },
  {
   "cell_type": "code",
   "execution_count": null,
   "metadata": {},
   "outputs": [],
   "source": [
    "sess.CASTable('hmeq_train_val')._PartInd_.mean()"
   ]
  },
  {
   "cell_type": "code",
   "execution_count": null,
   "metadata": {},
   "outputs": [],
   "source": [
    "sess.CASTable('hmeq_train_val').query('_partind_ = 0').BAD.mean()"
   ]
  },
  {
   "cell_type": "code",
   "execution_count": null,
   "metadata": {},
   "outputs": [],
   "source": [
    "sess.CASTable('hmeq_train_val').query('_partind_ = 1').BAD.mean()"
   ]
  },
  {
   "cell_type": "markdown",
   "metadata": {},
   "source": [
    "## 2.6 Заполнение пропусков в исходных переменных"
   ]
  },
  {
   "cell_type": "code",
   "execution_count": null,
   "metadata": {},
   "outputs": [],
   "source": [
    "_ = sess.cardinality.summarize(\n",
    "    table = {\n",
    "        'name': 'hmeq_train_val',\n",
    "        'where': '_partind_ = 0'\n",
    "    }, \n",
    "    cardinality = {\n",
    "        'name': 'data_card',\n",
    "        'replace': True\n",
    "    }\n",
    ")"
   ]
  },
  {
   "cell_type": "code",
   "execution_count": null,
   "metadata": {},
   "outputs": [],
   "source": [
    "sess.CASTable('data_card').head(10)"
   ]
  },
  {
   "cell_type": "code",
   "execution_count": null,
   "metadata": {},
   "outputs": [],
   "source": [
    "sess.CASTable('data_card').fetch(to = 100)"
   ]
  },
  {
   "cell_type": "code",
   "execution_count": null,
   "metadata": {},
   "outputs": [],
   "source": [
    "sess.CASTable('data_card').query('_NMISS_ > 0').fetch(to = 100)"
   ]
  },
  {
   "cell_type": "code",
   "execution_count": null,
   "metadata": {},
   "outputs": [],
   "source": [
    "data_card_df = sess.CASTable('data_card').query('_NMISS_ > 0').to_frame(fetchvars = ['_VARNAME_', '_NMISS_', '_NOBS_'])\n",
    "type(data_card_df)"
   ]
  },
  {
   "cell_type": "code",
   "execution_count": null,
   "metadata": {},
   "outputs": [],
   "source": [
    "# Доли пропущенных значений\n",
    "data_card_df['PERCENT_MISSING'] = (data_card_df['_NMISS_'] / data_card_df['_NOBS_']) * 100"
   ]
  },
  {
   "cell_type": "code",
   "execution_count": null,
   "metadata": {},
   "outputs": [],
   "source": [
    "# Гистограмма по пропущенным значениям\n",
    "tbl_forplot = pd.Series(list(data_card_df['PERCENT_MISSING']), index = list(data_card_df['_VARNAME_']))\n",
    "ax = tbl_forplot.plot(\n",
    "    kind = 'bar', \n",
    "    title = 'Percentage of Missing Values',\n",
    "    figsize = (11, 5)\n",
    ")\n",
    "ax.set_ylabel('Percent Missing')\n",
    "ax.set_xlabel('Variable Names');"
   ]
  },
  {
   "cell_type": "code",
   "execution_count": null,
   "metadata": {},
   "outputs": [],
   "source": [
    "sess.dataPreprocess.transform(\n",
    "    table = {\n",
    "        'name': 'hmeq_train_val',\n",
    "        'where': '_partind_ = 0'\n",
    "    },\n",
    "    copyAllVars = True,\n",
    "    outVarsNameGlobalPrefix = 'IM',\n",
    "    requestPackages = [\n",
    "        {\n",
    "            'impute': {\n",
    "                'method': 'MEAN'\n",
    "            },\n",
    "            'inputs': {\n",
    "                'clage',\n",
    "                'clno',\n",
    "                'loan',\n",
    "                'mortdue',\n",
    "                'value',\n",
    "                'delinq',\n",
    "                'debtinc',\n",
    "                'yoj',\n",
    "                'ninq',\n",
    "                'derog'\n",
    "            }\n",
    "        },\n",
    "        {\n",
    "            'impute': {\n",
    "                'method': 'MODE'\n",
    "            },\n",
    "            'inputs': {\n",
    "                'job',\n",
    "                'reason'\n",
    "            }\n",
    "        }\n",
    "    ],\n",
    "    code = {\n",
    "        'casout': {\n",
    "            'name': 'impute_score_code',\n",
    "            'replace': True\n",
    "        }\n",
    "    }\n",
    ")"
   ]
  },
  {
   "cell_type": "code",
   "execution_count": null,
   "metadata": {},
   "outputs": [],
   "source": [
    "sess.CASTable('impute_score_code').fetch(to = 10)"
   ]
  },
  {
   "cell_type": "code",
   "execution_count": null,
   "metadata": {},
   "outputs": [],
   "source": [
    "sess.dataStep.runCodeTable(\n",
    "    table = 'hmeq_train_val',\n",
    "    codeTable = 'impute_score_code',\n",
    "    casout = 'hmeq_train_val_abt'\n",
    ")\n",
    "sess.dataStep.runCodeTable(\n",
    "    table = 'hmeq_test',\n",
    "    codeTable = 'impute_score_code',\n",
    "    casout = 'hmeq_test_abt'\n",
    ")"
   ]
  },
  {
   "cell_type": "code",
   "execution_count": null,
   "metadata": {},
   "outputs": [],
   "source": [
    "raw_inputs = [\n",
    "    v for v in sess.CASTable('hmeq_train_val').columninfo()['ColumnInfo']['Column']\n",
    "    if v not in {'BAD', '_PartInd_', 'Customer_ID'}\n",
    "]\n",
    "raw_inputs_imp = [\n",
    "    'IM_%s' % v\n",
    "    for v in [\n",
    "        'clage', 'clno', 'loan', 'mortdue',\n",
    "        'value', 'delinq', 'debtinc', 'yoj',\n",
    "        'ninq', 'derog', 'job', 'reason'\n",
    "    ]\n",
    "]"
   ]
  },
  {
   "cell_type": "code",
   "execution_count": null,
   "metadata": {},
   "outputs": [],
   "source": [
    "raw_inputs"
   ]
  },
  {
   "cell_type": "markdown",
   "metadata": {},
   "source": [
    "## 2.7 Смотрим итоговую ABT"
   ]
  },
  {
   "cell_type": "code",
   "execution_count": null,
   "metadata": {},
   "outputs": [],
   "source": [
    "sess.CASTable('hmeq_train_val_abt').head(10)"
   ]
  },
  {
   "cell_type": "markdown",
   "metadata": {},
   "source": [
    "# 3.Обучение моделей"
   ]
  },
  {
   "cell_type": "markdown",
   "metadata": {},
   "source": [
    "## 3.1 Random Forest"
   ]
  },
  {
   "cell_type": "code",
   "execution_count": null,
   "metadata": {},
   "outputs": [],
   "source": [
    "rf = sess.decisionTree.forestTrain(\n",
    "    table={\n",
    "        'name': 'hmeq_train_val_abt',\n",
    "        'where': '_partind_ = 0'\n",
    "    },\n",
    "    inputs = raw_inputs,\n",
    "    nominals = ['bad'],\n",
    "    target = 'bad',\n",
    "    nTree = 20,\n",
    "    nBins = 20,\n",
    "    leafSize = 5,\n",
    "    maxLevel = 21,\n",
    "    crit = 'GAINRATIO',\n",
    "    varImp = True,\n",
    "    seed = 1234,\n",
    "    OOB = True,\n",
    "    vote = 'PROB',\n",
    "    saveState = {\n",
    "        'name': 'forest_ast',\n",
    "        'replace': True\n",
    "    },\n",
    "    nthreads = 3\n",
    ")"
   ]
  },
  {
   "cell_type": "code",
   "execution_count": null,
   "metadata": {},
   "outputs": [],
   "source": [
    "rf"
   ]
  },
  {
   "cell_type": "code",
   "execution_count": null,
   "metadata": {},
   "outputs": [],
   "source": [
    "var_imp = rf['DTreeVarImpInfo']\n",
    "plt.figure(figsize=(5, 5))\n",
    "_ = plt.barh(\n",
    "    y = var_imp.Variable,\n",
    "    width = var_imp.Importance\n",
    ")"
   ]
  },
  {
   "cell_type": "markdown",
   "metadata": {},
   "source": [
    "## 3.2 Gradient Boosting"
   ]
  },
  {
   "cell_type": "code",
   "execution_count": null,
   "metadata": {},
   "outputs": [],
   "source": [
    "gb = sess.decisionTree.gbtreeTrain(\n",
    "    table = {\n",
    "        'name': 'hmeq_train_val_abt',\n",
    "        'where': '_partind_ = 0'\n",
    "    },\n",
    "    validTable = {\n",
    "        'name': 'hmeq_train_val_abt',\n",
    "        'where': '_partind_ = 1'\n",
    "    },\n",
    "    earlyStop = {\n",
    "        'metric': 'logloss',\n",
    "        'minimum': True,\n",
    "        'stagnation': 5\n",
    "    },\n",
    "    inputs = raw_inputs,\n",
    "    nominals = ['bad'],\n",
    "    target = 'bad',\n",
    "    seed = 1234,\n",
    "    nTree = 100,\n",
    "    learningRate = 0.1,\n",
    "    nBins = 20,\n",
    "    maxLevel = 3,\n",
    "    varImp = True,\n",
    "    saveState = {\n",
    "        'name': 'gb_ast',\n",
    "        'replace': True\n",
    "    }\n",
    ")"
   ]
  },
  {
   "cell_type": "markdown",
   "metadata": {},
   "source": [
    "## 3.3 Random Forest Autotune"
   ]
  },
  {
   "cell_type": "code",
   "execution_count": null,
   "metadata": {},
   "outputs": [],
   "source": [
    "rf = sess.autotune.tuneForest(\n",
    "    trainOptions = {\n",
    "        'table': {\n",
    "            'name': 'hmeq_train_val_abt',\n",
    "            'where': '_partind_ = 0'\n",
    "        },\n",
    "        'inputs': raw_inputs,\n",
    "        'nominals': ['bad'],\n",
    "        'target': 'bad',\n",
    "        'nBins': 20,\n",
    "        'nTree': 20,\n",
    "        'leafSize': 5,\n",
    "        'maxLevel': 21,\n",
    "        'crit': 'GAINRATIO',\n",
    "        'varImp': True,\n",
    "        'seed': 1234,\n",
    "        'OOB': True,\n",
    "        'vote': 'PROB',\n",
    "        'saveState': {\n",
    "            'name': 'forest_auto_ast',\n",
    "            'replace': True\n",
    "        }\n",
    "    },\n",
    "    tunerOptions = {\n",
    "        'searchMethod': 'GA',\n",
    "        'popSize': 10,\n",
    "        'objective': 'AUC',\n",
    "        'maxIters': 3,\n",
    "        'enableLocalSearch': False,\n",
    "        'nFolds': 5\n",
    "    },\n",
    "    tuningParameters = [\n",
    "        {\n",
    "            'namePath': 'bootstrap',\n",
    "            'initValue': 0.5,\n",
    "            'lowerBound': 0.001,\n",
    "            'upperBound': 1\n",
    "        }\n",
    "    ],\n",
    "    useParameters = 'CUSTOM'\n",
    ")"
   ]
  },
  {
   "cell_type": "markdown",
   "metadata": {},
   "source": [
    "## 3.4 Model Composer"
   ]
  },
  {
   "cell_type": "markdown",
   "metadata": {},
   "source": [
    "### Байесовская оптимизация\n",
    "\n",
    "$$\n",
    "f(x) \\sim N(\\mu(x), \\Sigma(x, x)) \\quad EI(x) = E[\\max(f(x) - f(\\widehat{x^*}), 0) \\mid I] \\rightarrow \\max\\limits_x\n",
    "$$\n",
    "\n",
    "<img src=\"data:image/png;base64,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\">"
   ]
  },
  {
   "cell_type": "code",
   "execution_count": null,
   "metadata": {},
   "outputs": [],
   "source": [
    "comp = sess.autotune.modelComposer(\n",
    "    table = {\n",
    "        'name': 'hmeq_train_val_abt',\n",
    "        'where': '_partind_ = 0'\n",
    "    },\n",
    "    nRounds = 2,\n",
    "    nEvalsPerRound = 10,\n",
    "    acquisitionFunction = 'EI',\n",
    "    policyOptions = {\n",
    "        'policy': 'epsGreedy',\n",
    "        'epsGreedyOptions': {\n",
    "            'eps': 0.25\n",
    "        }\n",
    "    },\n",
    "    inputs = raw_inputs,\n",
    "    target = 'bad',\n",
    "    tunerOptions = {\n",
    "        'objective': 'AUC',\n",
    "        'enableLocalSearch': False,\n",
    "        'popSize': 5,\n",
    "        'nFolds': 3\n",
    "    },\n",
    "    nominals = ['bad'],\n",
    "    modelTypes = [\n",
    "        {\n",
    "            'modelType': 'gradboost',\n",
    "            'tuningOptions': {\n",
    "                'trainOptions': {\n",
    "                    'saveState': {\n",
    "                        'name': 'comp_gb_ast',\n",
    "                        'replace': True\n",
    "                    }\n",
    "                }\n",
    "            }\n",
    "        },\n",
    "        {\n",
    "            'modelType': 'forest',\n",
    "            'tuningOptions': {\n",
    "                'trainOptions': {\n",
    "                    'saveState': {\n",
    "                        'name': 'comp_forest_ast',\n",
    "                        'replace': True\n",
    "                    }\n",
    "                }\n",
    "            }\n",
    "        }\n",
    "    ]\n",
    ")"
   ]
  },
  {
   "cell_type": "code",
   "execution_count": null,
   "metadata": {},
   "outputs": [],
   "source": [
    "comp['TuneAllBestModels']"
   ]
  },
  {
   "cell_type": "code",
   "execution_count": null,
   "metadata": {},
   "outputs": [],
   "source": [
    "if comp['TuneAllBestModels']['ModelID'][0].split('_')[2] == 'GradBoost':\n",
    "    cmp_best = 'gb'\n",
    "else:\n",
    "    cmp_best = 'forest'\n",
    "print(cmp_best)"
   ]
  },
  {
   "cell_type": "markdown",
   "metadata": {},
   "source": [
    "## 3.5 Сравнение моделей"
   ]
  },
  {
   "cell_type": "code",
   "execution_count": null,
   "metadata": {},
   "outputs": [],
   "source": [
    "# Функция для получения показателей качества модели\n",
    "def assess_model(ast, table):\n",
    "    sess.astore.score(\n",
    "        table = table,\n",
    "        rstore = ast,\n",
    "        out = {\n",
    "            'name': '__scored',\n",
    "            'replace': True\n",
    "        },\n",
    "        copyVars = ['BAD']\n",
    "    )\n",
    "    return sess.percentile.assess(\n",
    "        table = '__scored',\n",
    "        inputs = [{'name': 'p_bad1'}],\n",
    "        response = 'bad',\n",
    "        event = '1',\n",
    "        cutStep = 1 / len(sess.CASTable('__scored'))\n",
    "    )"
   ]
  },
  {
   "cell_type": "code",
   "execution_count": null,
   "metadata": {},
   "outputs": [],
   "source": [
    "models = ['forest_ast', 'gb_ast', 'forest_auto_ast', 'comp_%s_ast' % cmp_best]\n",
    "names = {\n",
    "    'forest_ast': 'Forest',\n",
    "    'gb_ast': 'Gradient Boosting',\n",
    "    'forest_auto_ast': 'Forest Autotuned',\n",
    "    'comp_%s_ast' % cmp_best: 'Model Composer'\n",
    "}"
   ]
  },
  {
   "cell_type": "code",
   "execution_count": null,
   "metadata": {},
   "outputs": [],
   "source": [
    "assess_data = {\n",
    "    a: assess_model(a, {'name': 'hmeq_train_val_abt', 'where': '_partind_ = 1'})\n",
    "    for a in models\n",
    "}"
   ]
  },
  {
   "cell_type": "code",
   "execution_count": null,
   "metadata": {},
   "outputs": [],
   "source": [
    "assess_data['forest_ast']['ROCInfo'].head(5)"
   ]
  },
  {
   "cell_type": "code",
   "execution_count": null,
   "metadata": {},
   "outputs": [],
   "source": [
    "for m in models:\n",
    "    assess_data[m]['ROCInfo']['model'] = m\n",
    "    assess_data[m]['ROCInfo']['model_name'] = names[m]\n",
    "    assess_data[m]['LIFTInfo']['model'] = m\n",
    "    assess_data[m]['LIFTInfo']['model_name'] = names[m]"
   ]
  },
  {
   "cell_type": "code",
   "execution_count": null,
   "metadata": {},
   "outputs": [],
   "source": [
    "roc_data = pd.concat(assess_data[m]['ROCInfo'] for m in models)\n",
    "lift_data = pd.concat(assess_data[m]['LIFTInfo'] for m in models)"
   ]
  },
  {
   "cell_type": "code",
   "execution_count": null,
   "metadata": {},
   "outputs": [],
   "source": [
    "# Draw ROC charts \n",
    "plt.figure(figsize = (15, 4))\n",
    "for key, grp in roc_data.groupby(['model_name']):\n",
    "    plt.plot(grp['FPR'], grp['Sensitivity'], label = key)\n",
    "plt.plot([0,1], [0,1], 'k--')\n",
    "plt.xlabel('False Positive Rate')\n",
    "plt.ylabel('True Positive Rate')\n",
    "plt.grid(True)\n",
    "plt.legend(loc = 'best')\n",
    "plt.title('ROC Curve (using validation data)')\n",
    "plt.show()\n",
    "\n",
    "# Draw lift charts\n",
    "plt.figure(figsize = (15, 4))\n",
    "for key, grp in lift_data.groupby(['model_name']):\n",
    "    plt.plot(grp['Depth'], grp['Lift'], label = key)\n",
    "plt.xlabel('Depth')\n",
    "plt.ylabel('Lift')\n",
    "plt.grid(True)\n",
    "plt.legend(loc = 'best')\n",
    "plt.title('Lift Chart (using validation data)')\n",
    "plt.show()"
   ]
  },
  {
   "cell_type": "code",
   "execution_count": null,
   "metadata": {},
   "outputs": [],
   "source": [
    "aucs = roc_data.groupby(by = 'model')['C', 'model_name'] \\\n",
    ".max()\\\n",
    ".sort_values(by = 'C', ascending = False)\\\n",
    ".reset_index()\n",
    "aucs"
   ]
  },
  {
   "cell_type": "code",
   "execution_count": null,
   "metadata": {},
   "outputs": [],
   "source": [
    "champion_model = aucs.model[0]\n",
    "print(champion_model)"
   ]
  },
  {
   "cell_type": "markdown",
   "metadata": {},
   "source": [
    "## 4 Интерпретация работы модели"
   ]
  },
  {
   "cell_type": "markdown",
   "metadata": {},
   "source": [
    "## 4.1 Partial Dependence"
   ]
  },
  {
   "cell_type": "code",
   "execution_count": null,
   "metadata": {},
   "outputs": [],
   "source": [
    "r = sess.explainModel.partialDependence(\n",
    "    analysisVariable = {\n",
    "        'name': 'DEBTINC',\n",
    "        'nBins': 25\n",
    "    },\n",
    "    inputs = raw_inputs,\n",
    "    modelTable = champion_model,\n",
    "    modelTableType = 'ASTORE',\n",
    "    output = {\n",
    "        'casout':{\n",
    "            'name': 'pd_table',\n",
    "            'replace': True\n",
    "        },\n",
    "        'copyVars': 'ALL'\n",
    "    },\n",
    "    predictedTarget = 'P_BAD1',\n",
    "    sampleSize = 2000,\n",
    "    table = {\n",
    "\n",
    "        'name': 'hmeq_train_val_abt',\n",
    "        'where': '_partind_ = 0'\n",
    "    },\n",
    "    seed = 1234\n",
    ")"
   ]
  },
  {
   "cell_type": "code",
   "execution_count": null,
   "metadata": {},
   "outputs": [],
   "source": [
    "sess.CASTable('pd_table').columninfo()"
   ]
  },
  {
   "cell_type": "code",
   "execution_count": null,
   "metadata": {},
   "outputs": [],
   "source": [
    "sess.CASTable('pd_table').groupby(by = 'DEBTINC')['P_BAD1'].mean(\n",
    "    casout = {\n",
    "        'name': 'mean',\n",
    "        'replace': True\n",
    "    }\n",
    ")\n",
    "_ = sess.dataStep.runCode(code = '''\n",
    "    data pd_plot;\n",
    "        set mean;\n",
    "        ci_lower = _Mean_ - 1.96 * _Std_;\n",
    "        ci_upper = _Mean_ + 1.96 * _Std_;\n",
    "        p_bad1 = _Mean_;\n",
    "        keep debtinc ci_lower ci_upper p_bad1;\n",
    "    run;\n",
    "'''\n",
    ")"
   ]
  },
  {
   "cell_type": "code",
   "execution_count": null,
   "metadata": {},
   "outputs": [],
   "source": [
    "pd_plot = sess.CASTable('pd_plot').to_frame().sort_values(by = 'DEBTINC')\n",
    "fig = plt.figure(figsize = (20, 5))\n",
    "plt.fill_between(pd_plot.DEBTINC, pd_plot.ci_lower, pd_plot.ci_upper, alpha = 0.7)\n",
    "_ = plt.plot(pd_plot.DEBTINC, pd_plot.p_bad1, color = 'black')"
   ]
  },
  {
   "cell_type": "markdown",
   "metadata": {},
   "source": [
    "## 4.2 Individual Conditional Expectations"
   ]
  },
  {
   "cell_type": "markdown",
   "metadata": {},
   "source": [
    "### 4.2.1 Option 1"
   ]
  },
  {
   "cell_type": "code",
   "execution_count": null,
   "metadata": {},
   "outputs": [],
   "source": [
    "ice_plot = sess.CASTable('pd_table').to_frame(fetchvars = ['Customer_ID', 'P_BAD1', 'DEBTINC'])"
   ]
  },
  {
   "cell_type": "code",
   "execution_count": null,
   "metadata": {},
   "outputs": [],
   "source": [
    "plt.figure(figsize = (15, 4))\n",
    "for i, (key, grp) in enumerate(ice_plot.groupby(['Customer_ID'])):\n",
    "    plt.plot(grp['DEBTINC'], grp['P_BAD1'])\n",
    "    if i >= 10:\n",
    "        break\n",
    "plt.xlabel('DEBTINC')\n",
    "plt.ylabel('P_BAD1')\n",
    "plt.grid(True)"
   ]
  },
  {
   "cell_type": "markdown",
   "metadata": {},
   "source": [
    "### 4.2.2 Option 2"
   ]
  },
  {
   "cell_type": "code",
   "execution_count": null,
   "metadata": {},
   "outputs": [],
   "source": [
    "obs = sess.CASTable('hmeq_train_val_abt').head(1)"
   ]
  },
  {
   "cell_type": "code",
   "execution_count": null,
   "metadata": {},
   "outputs": [],
   "source": [
    "obs_dict = {\n",
    "    k: obs[k][0]\n",
    "    for k in sess.CASTable('hmeq_train_val_abt').columns\n",
    "    if k not in {'Customer_ID', 'BAD', '_PartInd_'}\n",
    "}"
   ]
  },
  {
   "cell_type": "code",
   "execution_count": null,
   "metadata": {},
   "outputs": [],
   "source": [
    "sess.dataPreprocess.binning(\n",
    "    table = {\n",
    "        'name': 'hmeq_train_val_abt',\n",
    "        'where': '_partind_ = 0'\n",
    "    },\n",
    "    inputs = ['DEBTINC'],\n",
    "    nBinsArray = [50],\n",
    "    casOutBinDetails = {\n",
    "        'name': 'bins',\n",
    "        'replace': True\n",
    "    }\n",
    ")\n",
    "bins = sess.CASTable('bins').to_frame(fetchvars = ['_BinLowerBnd_', '_BinUpperBnd_'])\n",
    "bins['mid'] = 0.5 * (bins['_BinLowerBnd_'] + bins['_BinUpperBnd_'])"
   ]
  },
  {
   "cell_type": "code",
   "execution_count": null,
   "metadata": {},
   "outputs": [],
   "source": [
    "sas_code = 'data ice_samples;'\n",
    "for var_name, value in obs_dict.items():\n",
    "    if var_name == 'DEBTINC':\n",
    "        continue\n",
    "    if type(value) == np.float64:\n",
    "        sas_code += '\\n\\t%s = %f;' % (var_name, value)\n",
    "    else:\n",
    "        sas_code += '\\n\\t%s = \"%s\";' % (var_name, value)\n",
    "for b in bins.mid:\n",
    "    sas_code += '\\n\\tDEBTINC = %f;' % b\n",
    "    sas_code += '\\n\\toutput;'\n",
    "sas_code += '\\nrun;'\n",
    "print(sas_code)"
   ]
  },
  {
   "cell_type": "code",
   "execution_count": null,
   "metadata": {},
   "outputs": [],
   "source": [
    "sess.dataStep.runcode(code = sas_code)"
   ]
  },
  {
   "cell_type": "code",
   "execution_count": null,
   "metadata": {},
   "outputs": [],
   "source": [
    "sess.astore.score(\n",
    "    table = 'ice_samples',\n",
    "    rstore = champion_model,\n",
    "    casOut = {\n",
    "        'name': 'ice_plot',\n",
    "        'replace': True\n",
    "    },\n",
    "    copyVars = ['DEBTINC']\n",
    ")"
   ]
  },
  {
   "cell_type": "code",
   "execution_count": null,
   "metadata": {},
   "outputs": [],
   "source": [
    "ice_plot = sess.CASTable('ice_plot').to_frame(fetchvars = ['DEBTINC', 'P_BAD1']).sort_values(by = 'DEBTINC')\n",
    "plt.figure(figsize = (15, 4))\n",
    "plt.plot(ice_plot['DEBTINC'], ice_plot['P_BAD1'])\n",
    "plt.xlabel('DEBTINC')\n",
    "plt.ylabel('P_BAD1')\n",
    "plt.grid(True)\n",
    "_ = plt.title('ICE for Customer_ID = %d' % obs.Customer_ID[0])"
   ]
  },
  {
   "cell_type": "markdown",
   "metadata": {},
   "source": [
    "## 4.3 LIME"
   ]
  },
  {
   "cell_type": "code",
   "execution_count": null,
   "metadata": {},
   "outputs": [],
   "source": [
    "lime = sess.explainModel.linearExplainer(\n",
    "    modelTable = champion_model,\n",
    "    modelTableType = 'ASTORE',\n",
    "    preset = 'LIME',\n",
    "    inputs = raw_inputs,\n",
    "    dataGeneration = {\n",
    "        'binaryEncoding': 'NONE',\n",
    "        'sampleSize': 1000\n",
    "    },\n",
    "    predictedTarget = 'P_BAD1',\n",
    "    query = {\n",
    "        'name': 'hmeq_train_val_abt',\n",
    "        'where': 'Customer_ID = %d' % obs.Customer_ID[0]\n",
    "    },\n",
    "    table = {\n",
    "        'name': 'hmeq_train_val_abt',\n",
    "        'where': '_partind_ = 0'\n",
    "    },\n",
    "    seed = 1234\n",
    ")"
   ]
  },
  {
   "cell_type": "code",
   "execution_count": null,
   "metadata": {},
   "outputs": [],
   "source": [
    "lime.keys()"
   ]
  },
  {
   "cell_type": "code",
   "execution_count": null,
   "metadata": {},
   "outputs": [],
   "source": [
    "lime['ParameterEstimates']"
   ]
  },
  {
   "cell_type": "code",
   "execution_count": null,
   "metadata": {},
   "outputs": [],
   "source": [
    "ests = lime['ParameterEstimates'].copy()\n",
    "\n",
    "cinfo = sess.CASTable('hmeq_train_val').columninfo()['ColumnInfo']\n",
    "\n",
    "raw_inputs_nominals = list(cinfo.loc[cinfo.Type == 'char', 'Column'])\n",
    "\n",
    "selected_nominals = \\\n",
    "{v for v in lime['ParameterEstimates'].Variable}\\\n",
    ".intersection(\n",
    "    {\n",
    "        v for v in raw_inputs_nominals\n",
    "    }\n",
    ")\n",
    "\n",
    "for i in range(len(ests)):\n",
    "    if ests.Variable[i] in selected_nominals:\n",
    "        if ests.dtypes[ests.Variable[i]] == np.float64:\n",
    "            ests.loc[i, 'Variable'] = ests.loc[i, 'Variable'] + ' (= %d)' % ests.loc[i, ests.loc[i, 'Variable']]\n",
    "        else:\n",
    "            ests.loc[i, 'Variable'] = ests.loc[i, 'Variable'] + ' (= \"%s\")' % ests.loc[i, ests.loc[i, 'Variable']]\n",
    "\n",
    "ests = ests[['Variable', 'Estimate', 'QueryValue']].copy()\n",
    "\n",
    "ests['AbsEstimate'] = ests.Estimate.apply(lambda x: abs(x))\n",
    "ests.sort_values(by = 'AbsEstimate', inplace = True, ascending = False)"
   ]
  },
  {
   "cell_type": "code",
   "execution_count": null,
   "metadata": {},
   "outputs": [],
   "source": [
    "ests"
   ]
  },
  {
   "cell_type": "markdown",
   "metadata": {},
   "source": [
    "## 4.4 Kernel SHAP"
   ]
  },
  {
   "cell_type": "code",
   "execution_count": null,
   "metadata": {},
   "outputs": [],
   "source": [
    "shap = sess.explainModel.linearExplainer(\n",
    "    modelTable = champion_model,\n",
    "    modelTableType = 'ASTORE',\n",
    "    preset = 'KERNELSHAP',\n",
    "    inputs = raw_inputs,\n",
    "    dataGeneration = {\n",
    "        'binaryEncoding': 'NONE',\n",
    "        'sampleSize': 1000\n",
    "    },\n",
    "    predictedTarget = 'P_BAD1',\n",
    "    query = {\n",
    "        'name': 'hmeq_train_val_abt',\n",
    "        'where': 'Customer_ID = %d' % obs.Customer_ID[0]\n",
    "    },\n",
    "    table = {\n",
    "        'name': 'hmeq_train_val_abt',\n",
    "        'where': '_partind_ = 0'\n",
    "    },\n",
    "    seed = 1234\n",
    ")"
   ]
  },
  {
   "cell_type": "code",
   "execution_count": null,
   "metadata": {},
   "outputs": [],
   "source": [
    "shap.keys()"
   ]
  },
  {
   "cell_type": "code",
   "execution_count": null,
   "metadata": {},
   "outputs": [],
   "source": [
    "shap['ParameterEstimates']"
   ]
  },
  {
   "cell_type": "code",
   "execution_count": null,
   "metadata": {},
   "outputs": [],
   "source": [
    "ests = shap['ParameterEstimates'].copy()\n",
    "\n",
    "cinfo = sess.CASTable('hmeq_train_val').columninfo()['ColumnInfo']\n",
    "\n",
    "raw_inputs_nominals = list(cinfo.loc[cinfo.Type == 'char', 'Column'])\n",
    "\n",
    "selected_nominals = \\\n",
    "{v for v in lime['ParameterEstimates'].Variable}\\\n",
    ".intersection(\n",
    "    {\n",
    "        v for v in raw_inputs_nominals\n",
    "    }\n",
    ")\n",
    "\n",
    "for i in range(len(ests)):\n",
    "    if ests.Variable[i] in selected_nominals:\n",
    "        if ests.dtypes[ests.Variable[i]] == np.float64:\n",
    "            ests.loc[i, 'Variable'] = ests.loc[i, 'Variable'] + ' (= %d)' % ests.loc[i, ests.loc[i, 'Variable']]\n",
    "        else:\n",
    "            ests.loc[i, 'Variable'] = ests.loc[i, 'Variable'] + ' (= \"%s\")' % ests.loc[i, ests.loc[i, 'Variable']]\n",
    "\n",
    "ests = ests[['Variable', 'Estimate']].copy()\n",
    "\n",
    "ests['AbsEstimate'] = ests.Estimate.apply(lambda x: abs(x))\n",
    "ests.sort_values(by = 'AbsEstimate', inplace = True, ascending = False)"
   ]
  },
  {
   "cell_type": "code",
   "execution_count": null,
   "metadata": {},
   "outputs": [],
   "source": [
    "ests"
   ]
  },
  {
   "cell_type": "markdown",
   "metadata": {},
   "source": [
    "# 5. Bonus track: Запуск автоматического конвеера разработки модели SAS AutoML"
   ]
  },
  {
   "cell_type": "markdown",
   "metadata": {},
   "source": [
    "## 5.1 Оценка показателей качества данных"
   ]
  },
  {
   "cell_type": "code",
   "execution_count": null,
   "metadata": {},
   "outputs": [],
   "source": [
    "sess.dataSciencePilot.exploreData(\n",
    "    table = {\n",
    "        'name': 'hmeq_train_val',\n",
    "        'where': '_partind_ = 0' # Train partition\n",
    "    },\n",
    "    inputs = raw_inputs,\n",
    "    casOut = {\n",
    "        'name': 'explore_data',\n",
    "        'replace': True\n",
    "    }\n",
    ")\n",
    "sess.CASTable('explore_data').head(1000)"
   ]
  },
  {
   "cell_type": "code",
   "execution_count": null,
   "metadata": {},
   "outputs": [],
   "source": [
    "r = sess.dataPreprocess.binning(\n",
    "    table = {\n",
    "        'name': 'hmeq_train_val_abt',\n",
    "        'where': '_partind_ = 0'\n",
    "    },\n",
    "    inputs = ['MORTDUE'],\n",
    "    nBinsArray = [50]\n",
    ")\n",
    "bins = r['BinDetails']\n",
    "bins['mid'] = 0.5 * (bins.BinLowerBnd + bins.BinUpperBnd)\n",
    "\n",
    "plt.figure(figsize = (10, 5))\n",
    "_ = plt.bar(x = bins.mid, height = bins.NInBin, width = bins.BinWidth[0] * 0.9)"
   ]
  },
  {
   "cell_type": "markdown",
   "metadata": {},
   "source": [
    "## 5.2 Оценка показателей зависимости переменных"
   ]
  },
  {
   "cell_type": "code",
   "execution_count": null,
   "metadata": {
    "scrolled": true
   },
   "outputs": [],
   "source": [
    "sess.dataSciencePilot.exploreCorrelation(\n",
    "    table = {\n",
    "        'name': 'hmeq_train_val',\n",
    "        'where': '_partind_ = 0' # Train partition\n",
    "    },\n",
    "    inputs = raw_inputs,\n",
    "    stats = {\n",
    "        'intervalInterval': {'MI', 'SU'},\n",
    "        'nominalInterval': {'MI', 'SU'},\n",
    "        'nominalNominal': {'MI', 'SU'}\n",
    "    },\n",
    "    casOut = {\n",
    "        'name': 'explore_correlation',\n",
    "        'replace': True\n",
    "    }\n",
    ")\n",
    "sess.CASTable('explore_correlation').head(1000).sort_values(by = 'SU', ascending = False)"
   ]
  },
  {
   "cell_type": "markdown",
   "metadata": {},
   "source": [
    "### 5.2.1 Проверка зависимости переменных VALUE и MORTDUE"
   ]
  },
  {
   "cell_type": "code",
   "execution_count": null,
   "metadata": {},
   "outputs": [],
   "source": [
    "df = sess.CASTable('hmeq_train_val_abt').query('_partind_ = 0').to_frame(fetchvars = ['VALUE', 'MORTDUE'])\n",
    "_ = plt.plot(df.VALUE, df.MORTDUE, 'o', markersize = 3)"
   ]
  },
  {
   "cell_type": "markdown",
   "metadata": {},
   "source": [
    "### 5.2.2 Проверка зависимости переменных VALUE и CLNO"
   ]
  },
  {
   "cell_type": "code",
   "execution_count": null,
   "metadata": {},
   "outputs": [],
   "source": [
    "df = sess.CASTable('hmeq_train_val_abt').query('_partind_ = 0').to_frame(fetchvars = ['VALUE', 'CLNO'])\n",
    "_ = plt.plot(df.VALUE, df.CLNO, 'o', markersize = 3)"
   ]
  },
  {
   "cell_type": "markdown",
   "metadata": {},
   "source": [
    "## 5.3 Подбор преобразований для каждого признака (Feature Engineering)"
   ]
  },
  {
   "cell_type": "code",
   "execution_count": null,
   "metadata": {},
   "outputs": [],
   "source": [
    "_ = sess.dataSciencePilot.featureMachine(\n",
    "    table = {\n",
    "        'name': 'hmeq_train_val_abt',\n",
    "        'where': '_partind_ = 0'\n",
    "    },\n",
    "    inputs = raw_inputs,\n",
    "    target = 'BAD',\n",
    "    transformationPolicy = {\n",
    "        'missing': True,\n",
    "        'cardinality': True,\n",
    "        'entropy': True,\n",
    "        'iqv': True,\n",
    "        'skewness': True,\n",
    "        'kurtosis': True,\n",
    "        'outlier': True\n",
    "    },\n",
    "    transformationOut = {\n",
    "        'name': 'trans_out',\n",
    "        'replace': True\n",
    "    },\n",
    "    featureOut = {\n",
    "        'name': 'feature_list',\n",
    "        'replace': True\n",
    "    },\n",
    "    saveState = {\n",
    "        'name': 'features_ast',\n",
    "        'replace': True\n",
    "    }\n",
    ")"
   ]
  },
  {
   "cell_type": "code",
   "execution_count": null,
   "metadata": {},
   "outputs": [],
   "source": [
    "sess.CASTable('feature_list').head(100)"
   ]
  },
  {
   "cell_type": "code",
   "execution_count": null,
   "metadata": {},
   "outputs": [],
   "source": [
    "fm_nominals = [v for v in sess.CASTable('feature_list').query('IsNominal = 1')['Name']]\n",
    "fm_intervals = [v for v in sess.CASTable('feature_list').query('IsNominal = 0')['Name']]"
   ]
  },
  {
   "cell_type": "code",
   "execution_count": null,
   "metadata": {},
   "outputs": [],
   "source": [
    "_ = sess.astore.score(\n",
    "    table = 'hmeq_train_val_abt',\n",
    "    rstore = 'features_ast',\n",
    "    out = {\n",
    "        'name': 'hmeq_train_val_abt_fm',\n",
    "        'replace': True\n",
    "    },\n",
    "    copyVars = ['BAD', '_PartInd_', 'Customer_ID'] + raw_inputs\n",
    ")"
   ]
  },
  {
   "cell_type": "markdown",
   "metadata": {},
   "source": [
    "## 5.4 Анализ и отбор признаков"
   ]
  },
  {
   "cell_type": "code",
   "execution_count": null,
   "metadata": {
    "scrolled": true
   },
   "outputs": [],
   "source": [
    "sess.dataSciencePilot.screenVariables(\n",
    "    table = {\n",
    "        'name': 'hmeq_train_val_abt_fm',\n",
    "        'where': '_partind_ = 0'\n",
    "    },\n",
    "    inputs = raw_inputs + fm_intervals + fm_nominals,\n",
    "    target = 'bad',\n",
    "    nominals = ['bad'] + fm_nominals,\n",
    "    screenPolicy = {\n",
    "        'redundant': 0.8\n",
    "    },\n",
    "    casOut = {\n",
    "        'name': 'screen_variables',\n",
    "        'replace': True\n",
    "    }\n",
    ")\n",
    "sess.CASTable('screen_variables').head(100)"
   ]
  },
  {
   "cell_type": "code",
   "execution_count": null,
   "metadata": {},
   "outputs": [],
   "source": [
    "vars_to_exclude = set(\n",
    "    sess.CASTable('screen_variables')\\\n",
    "    .query('Recommendation = \"remove\"')\\\n",
    "    .to_frame(fetchvars = ['Variable']).Variable\n",
    ")\n",
    "exclude = lambda x: list(set(x).difference(vars_to_exclude))\n",
    "raw_inputs_sc = exclude(raw_inputs)\n",
    "fm_intervals_sc = exclude(fm_intervals)\n",
    "fm_nominals_sc = exclude(fm_nominals)\n",
    "for i, v in enumerate(raw_inputs_sc + fm_intervals_sc + fm_nominals_sc):\n",
    "    print('%d\\t%s' % (i, v))"
   ]
  },
  {
   "cell_type": "markdown",
   "metadata": {},
   "source": [
    "## 5.5 Запуск всех шагов SAS AutoML в одном action"
   ]
  },
  {
   "cell_type": "code",
   "execution_count": null,
   "metadata": {},
   "outputs": [],
   "source": [
    "r = sess.dataSciencePilot.dsAutoMl(\n",
    "    table = {\n",
    "        'name': 'hmeq_train_val_abt',\n",
    "        'where': '_partind_ = 0'\n",
    "    },\n",
    "    inputs = raw_inputs,\n",
    "    target = 'bad',\n",
    "    modelTypes = [\n",
    "        'forest',\n",
    "        'gradboost'\n",
    "    ],\n",
    "    kFolds = 3,\n",
    "    objective = 'AUC',\n",
    "    sampleSize = 4, # maximum number of pipelines to sample\n",
    "    transformationPolicy = {\n",
    "        'missing': True,\n",
    "        'cardinality': True,\n",
    "        'entropy': True,\n",
    "        'iqv': True,\n",
    "        'skewness': True,\n",
    "        'kurtosis': True,\n",
    "        'outlier': True\n",
    "    },\n",
    "    transformationOut = {\n",
    "        'name': 'transformation',\n",
    "        'replace': True\n",
    "    },\n",
    "    featureOut = {\n",
    "        'name': 'feature_list',\n",
    "        'replace': True\n",
    "    },\n",
    "    pipelineOut = {\n",
    "        'name': 'pipeline',\n",
    "        'replace': True\n",
    "    },\n",
    "    saveState = {\n",
    "        'replace': True,\n",
    "        'modelNamePrefix': 'dsaml',\n",
    "        'topK': 2\n",
    "    },\n",
    "    seed = 1234\n",
    ")"
   ]
  },
  {
   "cell_type": "code",
   "execution_count": null,
   "metadata": {},
   "outputs": [],
   "source": [
    "sess.CASTable('feature_list').head(100)"
   ]
  },
  {
   "cell_type": "code",
   "execution_count": null,
   "metadata": {},
   "outputs": [],
   "source": [
    "df = sess.tableInfo()['TableInfo']\n",
    "df.loc[df['Name'].apply(lambda s: s.startswith('DSAML_')) == 1, ['Name']]"
   ]
  },
  {
   "cell_type": "markdown",
   "metadata": {},
   "source": [
    "### Short list лучший пайплайнов AutoML"
   ]
  },
  {
   "cell_type": "code",
   "execution_count": null,
   "metadata": {},
   "outputs": [],
   "source": [
    "sess.CASTable('pipeline').head(100)"
   ]
  },
  {
   "cell_type": "code",
   "execution_count": null,
   "metadata": {},
   "outputs": [],
   "source": [
    "best_pipeline = 'dsaml_' + sess.CASTable('pipeline') \\\n",
    "    .to_frame(fetchvars = ['MLType', 'Objective']) \\\n",
    "    .sort_values(by = 'Objective', ascending = False)['MLType'][0] \\\n",
    "    + '_1'\n",
    "print(best_pipeline)"
   ]
  },
  {
   "cell_type": "markdown",
   "metadata": {},
   "source": [
    "# 6. Выполнение скоринга в пакетном режиме"
   ]
  },
  {
   "cell_type": "code",
   "execution_count": null,
   "metadata": {},
   "outputs": [],
   "source": [
    "sess.astore.score(\n",
    "    rstore = 'DSAML_FM_',\n",
    "    table = {\n",
    "        'name': 'hmeq_train_val_abt',\n",
    "        'where': '_partind_ = 1'\n",
    "    },\n",
    "    casOut = {\n",
    "        'name': 'tmp',\n",
    "        'replace': True\n",
    "    },\n",
    "    copyVars = ['bad']\n",
    ")\n",
    "_ = sess.astore.score(\n",
    "    rstore = best_pipeline,\n",
    "    table = 'tmp',\n",
    "    casOut = {\n",
    "        'name': 'dsaml_scored',\n",
    "        'replace': True\n",
    "    },\n",
    "    copyVars = ['bad']\n",
    ")"
   ]
  },
  {
   "cell_type": "markdown",
   "metadata": {},
   "source": [
    "### Оценка точности работы алгоритма"
   ]
  },
  {
   "cell_type": "code",
   "execution_count": null,
   "metadata": {},
   "outputs": [],
   "source": [
    "ad = sess.percentile.assess(\n",
    "    table = 'dsaml_scored',\n",
    "    inputs = [{'name': 'p_bad1'}],\n",
    "    response = 'bad',\n",
    "    event = '1',\n",
    "    cutStep = 1 / len(sess.CASTable('dsaml_scored'))\n",
    ")\n",
    "print('AUC ROC for the best pipeline = %f' % ad['ROCInfo']['C'][0])"
   ]
  },
  {
   "cell_type": "markdown",
   "metadata": {},
   "source": [
    "# 7. Регистрация модели в репозитории Model Manager"
   ]
  },
  {
   "cell_type": "code",
   "execution_count": null,
   "metadata": {},
   "outputs": [],
   "source": []
  },
  {
   "cell_type": "code",
   "execution_count": null,
   "metadata": {},
   "outputs": [],
   "source": [
    "from sasctl import register_model, Session"
   ]
  },
  {
   "cell_type": "code",
   "execution_count": null,
   "metadata": {},
   "outputs": [],
   "source": [
    "with swat.CAS(cashost, casport, casuser, password) as cas:\n",
    "#    astore = cas.CASTable('model_astore_table')\n",
    "\n",
    "    Session(password, casuser, password):\n",
    "\n",
    "    model = register_model(astore, 'Model Name', 'Project Name')"
   ]
  }
 ],
 "metadata": {
  "kernelspec": {
   "display_name": "Python 3",
   "language": "python",
   "name": "python3"
  },
  "language_info": {
   "codemirror_mode": {
    "name": "ipython",
    "version": 3
   },
   "file_extension": ".py",
   "mimetype": "text/x-python",
   "name": "python",
   "nbconvert_exporter": "python",
   "pygments_lexer": "ipython3",
   "version": "3.7.3"
  }
 },
 "nbformat": 4,
 "nbformat_minor": 2
}
